{
 "cells": [
  {
   "cell_type": "markdown",
   "metadata": {},
   "source": [
    "## Understanding dataset generation\n",
    "- How is output traj generated?\n",
    "- How are CLIP embeddings used?\n",
    "- How are text labels generated?"
   ]
  },
  {
   "cell_type": "code",
   "execution_count": 3,
   "metadata": {},
   "outputs": [],
   "source": [
    "from test_data_gen_utils import *\n",
    "\n",
    "obj_library_file = \"/home/janne/ros_ws/latte/src/LaTTe/imagenet1000_clsidx_to_labels.txt\"\n",
    "\n",
    "dg = DataGenerator({'dist':1, 'cartesian':1, 'speed':1}, obj_library_file)\n",
    "data = dg.generate(2, 4, True, [1, 5], [1, 3])"
   ]
  },
  {
   "cell_type": "code",
   "execution_count": null,
   "metadata": {},
   "outputs": [],
   "source": []
  },
  {
   "cell_type": "code",
   "execution_count": 4,
   "metadata": {},
   "outputs": [
    {
     "name": "stderr",
     "output_type": "stream",
     "text": [
      "100%|██████████| 2/2 [00:00<00:00, 45839.39it/s]"
     ]
    },
    {
     "name": "stdout",
     "output_type": "stream",
     "text": [
      "0\n",
      "1\n"
     ]
    },
    {
     "name": "stderr",
     "output_type": "stream",
     "text": [
      "\n"
     ]
    }
   ],
   "source": [
    "from tqdm import tqdm\n",
    "maps = 2\n",
    "labels_per_map = 4\n",
    "for i in tqdm(range(maps)):\n",
    "    print(i)"
   ]
  },
  {
   "cell_type": "code",
   "execution_count": null,
   "metadata": {},
   "outputs": [],
   "source": [
    "def get_objs(self, num_objs:int) -> dict:\n",
    "\n",
    "    obj_classes = random.sample(self.obj_library.keys(),num_objs)\n",
    "    obj_names = [random.choice(self.obj_library[o]) for o in obj_classes]\n",
    "\n",
    "    obj_pt = np.random.random([num_objs,3])*(1-self.margin)+self.margin/2-0.5\n",
    "    objs_dict  = {}\n",
    "    for x,y,z,name,c in zip(obj_pt[:,0],obj_pt[:,1],obj_pt[:,2],obj_names, obj_classes):\n",
    "        objs_dict[name] = {\"value\":{\"obj_p\":[x,y,z]}, \"class\":c}\n",
    "\n",
    "    return obj_names,obj_classes, obj_pt, objs_dict"
   ]
  }
 ],
 "metadata": {
  "kernelspec": {
   "display_name": "Python 3.8.2 ('latte')",
   "language": "python",
   "name": "python3"
  },
  "language_info": {
   "codemirror_mode": {
    "name": "ipython",
    "version": 3
   },
   "file_extension": ".py",
   "mimetype": "text/x-python",
   "name": "python",
   "nbconvert_exporter": "python",
   "pygments_lexer": "ipython3",
   "version": "3.8.2"
  },
  "orig_nbformat": 4,
  "vscode": {
   "interpreter": {
    "hash": "f6a438031d3067a702c715870af738ab033bb2c607b60fca9461104cd2ac727b"
   }
  }
 },
 "nbformat": 4,
 "nbformat_minor": 2
}
