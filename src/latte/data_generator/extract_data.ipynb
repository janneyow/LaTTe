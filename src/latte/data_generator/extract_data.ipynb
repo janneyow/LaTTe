{
 "cells": [
  {
   "cell_type": "code",
   "execution_count": 4,
   "metadata": {},
   "outputs": [],
   "source": [
    "# base_path = \"/home/janne/ros_ws/src/LaTTe/data\"\n",
    "base_path = \"/home/janne/ros_ws/language/src/LaTTe/data\"\n"
   ]
  },
  {
   "attachments": {},
   "cell_type": "markdown",
   "metadata": {},
   "source": [
    "# Extract data from the LaTTe's 100k dataset\n"
   ]
  },
  {
   "cell_type": "code",
   "execution_count": 1,
   "metadata": {},
   "outputs": [],
   "source": [
    "import json\n",
    "file_path = base_path + \"/datalatte_100k_lf.json\"\n",
    "\n",
    "# Import data\n",
    "with open(file_path, \"r\") as f:\n",
    "    data = json.load(f)"
   ]
  },
  {
   "cell_type": "code",
   "execution_count": 2,
   "metadata": {},
   "outputs": [
    {
     "name": "stdout",
     "output_type": "stream",
     "text": [
      "100000\n",
      "{'input_traj': [[0.29524648098151074, -0.005368213565017599, -0.10639531430622262, 0.30000000000000004], [0.27381279643114875, 0.08191928084317257, -0.04638646207348601, 0.19934730526173594], [0.24611539136683902, 0.15281377277132036, 0.00314310608170576, 0.11027115407076604], [0.2130720465233349, 0.20841837092767102, 0.042970152019565, 0.032196782921920075], [0.17560054263539038, 0.24983618402046925, 0.07387143760030368, -0.035450571689972565], [0.13461866043775916, 0.27817032075796, 0.09662372468413394, -0.09324567327008226], [0.09104418066519482, 0.2945238898483884, 0.11200377513126847, -0.1417632853235794], [0.045794884052451135, 0.30000000000000004, 0.12078835080191896, -0.18157817135563453], [-0.00021144866571820575, 0.2957017599210392, 0.1237542135562979, -0.21326509487141826], [-0.046057036754559355, 0.28273227831975145, 0.1216781252546173, -0.23739881937610063], [-0.09082409947931858, 0.2621946639043815, 0.11533684775708952, -0.2545541083748525], [-0.13359485610524235, 0.2351920253831743, 0.10550714292392649, -0.26530572537284414], [-0.17345152589757684, 0.2028274714643754, 0.09296577261534078, -0.27022843387524587], [-0.20947632812156824, 0.16620411085622933, 0.0784894986915442, -0.2698969973872285], [-0.24075148204246294, 0.12642505226698142, 0.06285508301274922, -0.2648861794139621], [-0.26635920692550713, 0.08459340440487662, 0.0468392874391681, -0.2557707434606174], [-0.28538172203594725, 0.04181227597815995, 0.03121887383101274, -0.24312545303236466], [-0.2969012466390295, -0.0008152243049237007, 0.01677060404849562, -0.2275250716343744], [-0.3, -0.042185987736128916, 0.004271239951828765, -0.20954436277181737], [-0.29376020138410497, -0.0811969056072111, -0.005502456598775685, -0.18975808994986337], [-0.2772973321000549, -0.11676179513806917, -0.011793132493116809, -0.16874101667368346], [-0.25085463616145126, -0.1483683538192967, -0.014501495946522835, -0.1470679064484478], [-0.21605132001410016, -0.17620445985293748, -0.014331143634887633, -0.1253135227793269], [-0.17459010862599778, -0.20050049119024183, -0.01203440616472734, -0.10405262917149122], [-0.12817372696514062, -0.2214868257824601, -0.008363614142558262, -0.08385998913011117], [-0.07850489999952504, -0.23939384158084276, -0.004071098174896592, -0.06531036616035735], [-0.027286352697146854, -0.25445191653664023, 9.081113174136402e-05, -0.04897852376740014], [0.023779189973997528, -0.26689142860110293, 0.0033697831708394688, -0.03543922545640982], [0.0729890030459116, -0.2769427557254812, 0.0050134873358815835, -0.025267234732557042], [0.11864036155059932, -0.28483627586102533, 0.004269593020351237, -0.019037315101012253], [0.15903054052006427, -0.290802366958986, 0.00038576961773229, -0.017324230066945723], [0.1924568149863104, -0.2950714069706133, -0.007390313478491228, -0.020702743135528168], [0.2172164599813411, -0.29787377384715785, -0.019810986874835956, -0.029747617811929805], [0.23160675053716062, -0.29943984553986996, -0.037628581177817866, -0.045033617601321296], [0.23392496168577215, -0.3, -0.061595426993953206, -0.06713550600887297], [0.22246836845917972, -0.2997846151787984, -0.09246385492975817, -0.0966280465397551], [0.19553424588938717, -0.2990240690275156, -0.13098619559174918, -0.1340860026991385], [0.15141986900839788, -0.29794873949740197, -0.1779147795864423, -0.18008413799219353], [0.0884225128482159, -0.2967890045397078, -0.2340019375203538, -0.2351972159240906], [0.004839452440844716, -0.2957752421056836, -0.3, -0.3]], 'output_traj': [[0.29524648098151074, -0.005368213565017599, -0.10639531430622262, 0.30000000000000004], [0.22725513849380435, 0.04739559746162486, -0.048035975128614794, 0.19934730526173594], [0.18362861441291545, 0.09369621217552854, -0.004123736360946545, 0.11027115407076604], [0.16138961398118565, 0.13686543232461298, 0.03091680520343475, 0.032196782921920075], [0.14367173519174867, 0.17717188887692328, 0.0495235046284083, -0.035450571689972565], [0.11888977831455529, 0.2022881445842767, 0.07074611333642253, -0.09324567327008226], [0.08842598767465448, 0.21990493837935954, 0.08100927422713936, -0.1417632853235794], [0.05574981115552495, 0.22502498255515727, 0.09047944403633293, -0.18157817135563453], [0.02164791803783058, 0.2239564216875488, 0.09064382507253897, -0.21326509487141826], [-0.011583086074591076, 0.21285765463326006, 0.09168656416486815, -0.23739881937610063], [-0.04483144398612116, 0.19982265916500083, 0.08408514596867697, -0.2545541083748525], [-0.07653680458767266, 0.17965797317347237, 0.0774045998442806, -0.26530572537284414], [-0.10535161892592934, 0.15389166182618255, 0.06971515857162011, -0.27022843387524587], [-0.13298197510474558, 0.12836796258442387, 0.056005057437677995, -0.2698969973872285], [-0.15938029946111318, 0.0992826709170985, 0.04731630930111825, -0.2648861794139621], [-0.1821535091117292, 0.0697069497075744, 0.03340860629952387, -0.2557707434606174], [-0.2005799060864236, 0.037150118244354303, 0.023629462628508513, -0.24312545303236466], [-0.2122480012897527, 0.004759516064266099, 0.011135710042287137, -0.2275250716343744], [-0.21662994303976185, -0.02786583521028528, 0.002138522688183795, -0.20954436277181737], [-0.21199989567272517, -0.058438546883481365, -0.0061146294278575965, -0.18975808994986337], [-0.1978594436817905, -0.08599812809013133, -0.010472062699193735, -0.16874101667368346], [-0.17427938149336886, -0.10857685241274197, -0.012995185099045107, -0.1470679064484478], [-0.14424298908962677, -0.12707630174708695, -0.010264055106433025, -0.1253135227793269], [-0.10898155661146422, -0.140520211492368, -0.010466482250943814, -0.10405262917149122], [-0.07187631284795187, -0.15154864736839976, -0.005105665590416839, -0.08385998913011117], [-0.03347682770263339, -0.16016179233271413, -0.0037197765247795928, -0.06531036616035735], [0.00429158093337043, -0.16768213249285005, 0.0008826469247905094, -0.04897852376740014], [0.041097660894674135, -0.1754930342413428, 0.002623846239673655, -0.03543922545640982], [0.07564051923966009, -0.18652102652132183, 0.004489876599570722, -0.025267234732557042], [0.10923321030781558, -0.19306026326889383, 0.003946763706304072, -0.019037315101012253], [0.1384036467683782, -0.2045137393558492, 0.001267994557025831, -0.017324230066945723], [0.16510009655043675, -0.20792575826508564, -0.003625380989666415, -0.020702743135528168], [0.18407225111116587, -0.21742564492447247, -0.011686376508102095, -0.029747617811929805], [0.19856092428406288, -0.21632932470418334, -0.02331630880476826, -0.045033617601321296], [0.20299011676484843, -0.22112656262836042, -0.041410099336906904, -0.06713550600887297], [0.19520163171952395, -0.22098617373795607, -0.06627856761860176, -0.0966280465397551], [0.17203732442764716, -0.21548588423443668, -0.09492053136315731, -0.1340860026991385], [0.1349913030687402, -0.2173371302844165, -0.13290365671442772, -0.18008413799219353], [0.08171190127872398, -0.2227174431932273, -0.18294386407852598, -0.2351972159240906], [0.00936783981031217, -0.23132081371387744, -0.2470236348366938, -0.3]], 'text': 'stay closer to the Egyptian cat', 'obj_names': ['acoustic guitar', 'RV', 'trolley', 'minibus', 'Egyptian cat', 'European fire salamander'], 'obj_poses': [[-0.16723265307625768, 0.06511611437603326, -0.2140565027826487], [0.26284862657619623, 0.15670515978207278, -0.23528697921312614], [-0.09024289540346142, -0.060834785513723455, -0.2935970481219493], [0.025734782714433413, -0.2316987307641093, 0.16114266945706612], [0.07547948374778946, 0.02328983279775909, 0.0005649966608154422], [0.22303722987414787, -0.07094117787220988, 0.10933703314772436]], 'obj_classes': ['402', '757', '829', '654', '285', '25'], 'obj_in_text': 'Egyptian cat', 'change_type': 'dist', 'map_id': 0, 'image_paths': ['/home/arthur/data/image_dataset//402/acoustic guitar/Image_3.jpg', '/home/arthur/data/image_dataset//757/RV/Image_1.jpg', '/home/arthur/data/image_dataset//829/trolley/Image_1.jpg', '/home/arthur/data/image_dataset//654/minibus/Image_5.jpg', '/home/arthur/data/image_dataset//285/Egyptian cat/Image_1.jpg', '/home/arthur/data/image_dataset//25/European fire salamander/Image_3.jpg'], 'locality_factor': 0.6624113313262489, 'token_text': [101, 2994, 3553, 2000, 1996, 6811, 4937, 102], 'similarity': [[0.17227767407894135, 0.17446866631507874, 0.1748104691505432, 0.1452394276857376, 0.26796862483024597, 0.18175172805786133]]}\n",
      "dict_keys(['input_traj', 'output_traj', 'text', 'obj_names', 'obj_poses', 'obj_classes', 'obj_in_text', 'change_type', 'map_id', 'image_paths', 'locality_factor', 'token_text', 'similarity'])\n"
     ]
    }
   ],
   "source": [
    "print(len(data))\n",
    "print(data[\"0\"])\n",
    "print(data[\"0\"].keys())"
   ]
  },
  {
   "attachments": {},
   "cell_type": "markdown",
   "metadata": {},
   "source": [
    "## Extract all the texts/corrections from dataset"
   ]
  },
  {
   "cell_type": "code",
   "execution_count": 6,
   "metadata": {},
   "outputs": [],
   "source": [
    "#################################\n",
    "# Extracting text from data set #\n",
    "#################################\n",
    "corpus = []\n",
    "for d in data:\n",
    "    text = data[d][\"text\"]\n",
    "    corpus.append(text)\n",
    "\n",
    "with open(base_path + \"/data_latte_100k_text.json\", \"w\") as f:\n",
    "    json.dump(corpus, f)"
   ]
  },
  {
   "attachments": {},
   "cell_type": "markdown",
   "metadata": {},
   "source": [
    "## Checking objects"
   ]
  },
  {
   "cell_type": "code",
   "execution_count": 17,
   "metadata": {},
   "outputs": [
    {
     "name": "stdout",
     "output_type": "stream",
     "text": [
      "Length of object list:  400230\n",
      "Length of object list:  1840\n"
     ]
    }
   ],
   "source": [
    "#####################################\n",
    "# Extracting objects from text data #\n",
    "#####################################\n",
    "all_objects = []\n",
    "for d in data:\n",
    "    obj = data[d][\"obj_names\"]\n",
    "    for o in obj:\n",
    "        all_objects.append(o)\n",
    "print(\"Length of object list: \", len(all_objects))\n",
    "\n",
    "# Remove duplicates\n",
    "all_objects = list(set(all_objects))\n",
    "print(\"Length of object list: \", len(all_objects))\n",
    "\n",
    "with open(base_path + \"/data_latte_100k_objects.json\", \"w\") as f:\n",
    "    json.dump(all_objects, f)"
   ]
  },
  {
   "cell_type": "code",
   "execution_count": 18,
   "metadata": {},
   "outputs": [
    {
     "name": "stdout",
     "output_type": "stream",
     "text": [
      "plate in list\n",
      "water bottle in list\n",
      "bottle NOT in list\n",
      "fork NOT in list\n",
      "coffee NOT in list\n",
      "apple NOT in list\n",
      "egg NOT in list\n",
      "cake NOT in list\n",
      "knife NOT in list\n"
     ]
    }
   ],
   "source": [
    "#########################################\n",
    "# Checking is object exists in data set #\n",
    "#########################################\n",
    "with open(base_path + \"/data_latte_100k_obj_list.json\", \"r\") as f:\n",
    "    obj_list = json.load(f)\n",
    "    \n",
    "# bottle - beer bottle, soda bottle, water bottle, wine bottle\n",
    "objects_to_check = [\"plate\", \"water bottle\", \"bottle\", \"fork\", \"coffee\", \"apple\", \"egg\", \"cake\", \"knife\"]\n",
    "for obj in objects_to_check:\n",
    "    if obj in obj_list:\n",
    "        print(obj, \"in list\")\n",
    "    else:\n",
    "        print(obj, \"NOT in list\")"
   ]
  },
  {
   "attachments": {},
   "cell_type": "markdown",
   "metadata": {},
   "source": [
    "## Sampling a smaller dataset for testing"
   ]
  },
  {
   "cell_type": "code",
   "execution_count": 2,
   "metadata": {},
   "outputs": [
    {
     "ename": "NameError",
     "evalue": "name 'data' is not defined",
     "output_type": "error",
     "traceback": [
      "\u001b[0;31m---------------------------------------------------------------------------\u001b[0m",
      "\u001b[0;31mNameError\u001b[0m                                 Traceback (most recent call last)",
      "\u001b[0;32m/tmp/ipykernel_57772/655952617.py\u001b[0m in \u001b[0;36m<module>\u001b[0;34m\u001b[0m\n\u001b[1;32m      5\u001b[0m \u001b[0;34m\u001b[0m\u001b[0m\n\u001b[1;32m      6\u001b[0m \u001b[0msmall_dataset\u001b[0m \u001b[0;34m=\u001b[0m \u001b[0;34m{\u001b[0m\u001b[0;34m}\u001b[0m\u001b[0;34m\u001b[0m\u001b[0;34m\u001b[0m\u001b[0m\n\u001b[0;32m----> 7\u001b[0;31m \u001b[0;32mfor\u001b[0m \u001b[0md\u001b[0m \u001b[0;32min\u001b[0m \u001b[0mdata\u001b[0m\u001b[0;34m:\u001b[0m\u001b[0;34m\u001b[0m\u001b[0;34m\u001b[0m\u001b[0m\n\u001b[0m\u001b[1;32m      8\u001b[0m     \u001b[0;32mif\u001b[0m \u001b[0midx\u001b[0m \u001b[0;34m<\u001b[0m \u001b[0msmall_dataset_size\u001b[0m\u001b[0;34m:\u001b[0m\u001b[0;34m\u001b[0m\u001b[0;34m\u001b[0m\u001b[0m\n\u001b[1;32m      9\u001b[0m         \u001b[0msmall_dataset\u001b[0m\u001b[0;34m[\u001b[0m\u001b[0md\u001b[0m\u001b[0;34m]\u001b[0m \u001b[0;34m=\u001b[0m \u001b[0mdata\u001b[0m\u001b[0;34m[\u001b[0m\u001b[0md\u001b[0m\u001b[0;34m]\u001b[0m\u001b[0;34m\u001b[0m\u001b[0;34m\u001b[0m\u001b[0m\n",
      "\u001b[0;31mNameError\u001b[0m: name 'data' is not defined"
     ]
    }
   ],
   "source": [
    "idx = 0\n",
    "small_dataset_size = 20\n",
    "\n",
    "small_dataset = {}\n",
    "for d in data:\n",
    "    if idx < small_dataset_size:\n",
    "        small_dataset[d] = data[d]\n",
    "    else:\n",
    "        break\n",
    "    idx += 1\n",
    "\n",
    "for d in small_dataset:\n",
    "    print(small_dataset[d][\"change_type\"])\n",
    "\n",
    "data_set_name = f\"data_latte_{len(small_dataset)}.json\"\n",
    "\n",
    "with open(base_path + data_set_name, \"w\") as f:\n",
    "    json.dump(small_dataset, f, indent=4)\n"
   ]
  },
  {
   "attachments": {},
   "cell_type": "markdown",
   "metadata": {},
   "source": [
    "# Generate validation data\n",
    "- Include `intensity` and `direction` labels in the dataset\n",
    "  "
   ]
  },
  {
   "cell_type": "code",
   "execution_count": 15,
   "metadata": {},
   "outputs": [],
   "source": [
    "import json\n",
    "\n",
    "# data_set_name = \"data_latte_20.json\"\n",
    "data_set_name = \"datalatte_100k_lf.json\""
   ]
  },
  {
   "cell_type": "code",
   "execution_count": 17,
   "metadata": {},
   "outputs": [
    {
     "data": {
      "text/plain": [
       "['input_traj',\n",
       " 'output_traj',\n",
       " 'text',\n",
       " 'obj_names',\n",
       " 'obj_poses',\n",
       " 'obj_classes',\n",
       " 'obj_in_text',\n",
       " 'change_type',\n",
       " 'map_id',\n",
       " 'image_paths',\n",
       " 'locality_factor',\n",
       " 'token_text',\n",
       " 'similarity']"
      ]
     },
     "execution_count": 17,
     "metadata": {},
     "output_type": "execute_result"
    }
   ],
   "source": [
    "# Load the dataset\n",
    "with open(base_path + \"/\" + data_set_name, \"r\") as f:\n",
    "    data = json.load(f)\n",
    "\n",
    "list(data[\"0\"].keys())"
   ]
  },
  {
   "cell_type": "code",
   "execution_count": 18,
   "metadata": {},
   "outputs": [],
   "source": [
    "# Key phrases from latte's dataset generator\n",
    "DIST_INC = [\"further away from\", \"keep a bigger distance from the\"]\n",
    "DIST_DEC = [\"closer to the\", \"keep a smaller distance from the\"]\n",
    "\n",
    "INTENSITY_LOW = [\"a bit\", \"a little\"]\n",
    "INTENSITY_HIGH = [\"a lot\", \"much\", \"very\"]\n",
    "\n",
    "def check_distance_direction(sentence):\n",
    "    if any(phrase in sentence for phrase in DIST_INC):\n",
    "        return \"INCREASE\"\n",
    "    elif any(phrase in sentence for phrase in DIST_DEC):\n",
    "        return \"DECREASE\"\n",
    "    return \"-\"\n",
    "\n",
    "def check_intensity(sentence):\n",
    "    if any(phrase in sentence for phrase in INTENSITY_LOW):\n",
    "        return \"LOW\"\n",
    "    elif any(phrase in sentence for phrase in INTENSITY_HIGH):\n",
    "        return \"HIGH\"\n",
    "    return \"NEUTRAL\""
   ]
  },
  {
   "cell_type": "code",
   "execution_count": 19,
   "metadata": {},
   "outputs": [],
   "source": [
    "# X, Y should correspond to our evaluation labels in `calc_accuracy.py`\n",
    "# The direction is changed accordingly there\n",
    "Y_CART_INC = [\"right\"]\n",
    "Y_CART_DEC = [\"left\"]\n",
    "X_CART_INC = [\"front\"]\n",
    "X_CART_DEC = [\"back\"]\n",
    "Z_CART_INC = [\"top\", \"upper part\"]\n",
    "Z_CART_DEC = [\"down\", \"bottom\", \"bottom part\"]\n",
    "\n",
    "def check_cartesian_direction(sentence):\n",
    "    if any(phrase in sentence for phrase in Y_CART_INC):\n",
    "        return \"Y\", \"INCREASE\"\n",
    "    elif any(phrase in sentence for phrase in Y_CART_DEC):\n",
    "        return \"Y\", \"DECREASE\"\n",
    "    elif any(phrase in sentence for phrase in X_CART_INC):\n",
    "        return \"X\", \"INCREASE\"\n",
    "    elif any(phrase in sentence for phrase in X_CART_DEC):\n",
    "        return \"X\", \"DECREASE\"\n",
    "    elif any(phrase in sentence for phrase in Z_CART_INC):\n",
    "        return \"Z\", \"INCREASE\"\n",
    "    elif any(phrase in sentence for phrase in Z_CART_DEC):\n",
    "        return \"Z\", \"DECREASE\"\n",
    "    return \"-\", \"UNKNOWN\""
   ]
  },
  {
   "cell_type": "code",
   "execution_count": 22,
   "metadata": {},
   "outputs": [],
   "source": [
    "SPEED_INC = [\"faster\", \"increase the speed\"]\n",
    "SPEED_DEC = [\"slower\", \"reduce the speed\"]\n",
    "\n",
    "def check_speed_direction(sentence):\n",
    "    if any(phrase in sentence for phrase in SPEED_INC):\n",
    "        return \"INCREASE\"\n",
    "    elif any(phrase in sentence for phrase in SPEED_DEC):\n",
    "        return \"DECREASE\"\n",
    "    return \"-\""
   ]
  },
  {
   "cell_type": "code",
   "execution_count": 23,
   "metadata": {},
   "outputs": [],
   "source": [
    "def get_dynamic_features(feature):\n",
    "    ft_parts = feature.split(\"_\")\n",
    "\n",
    "    # return both increase and decrease\n",
    "    ft_1 = \"_\".join(ft_parts[:-1])      # joins everything except the last part\n",
    "\n",
    "    if ft_parts[-1] == \"increase\":\n",
    "        dir_new = \"decrease\"\n",
    "    elif ft_parts[-1] == \"decrease\":\n",
    "        dir_new = \"increase\"\n",
    "    \n",
    "    features = [feature, ft_1 + \"_\" + dir_new]\n",
    "    return sorted(features)"
   ]
  },
  {
   "cell_type": "code",
   "execution_count": 24,
   "metadata": {},
   "outputs": [],
   "source": [
    "# Change key names to match our evaluation labels\n",
    "for d in data:\n",
    "    data[d][\"initial_traj\"] = data[d].pop(\"input_traj\")\n",
    "    data[d][\"gt_output_traj\"] = data[d].pop(\"output_traj\")\n",
    "    data[d][\"gt_target_object\"] = [data[d].pop(\"obj_in_text\")]"
   ]
  },
  {
   "cell_type": "code",
   "execution_count": 25,
   "metadata": {},
   "outputs": [],
   "source": [
    "for d in data:    \n",
    "    # Add new keys\n",
    "    if data[d]['change_type'] == \"dist\":\n",
    "        data[d]['gt_direction'] = [check_distance_direction(data[d]['text'])]\n",
    "        data[d]['gt_intensity'] = [check_intensity(data[d]['text'])]\n",
    "        data[d]['gt_cart_axes'] = [\"-\"]\n",
    "        data[d]['gt_change_type'] = [\"distance\"]\n",
    "        data[d]['gt_feature'] = [data[d][\"gt_target_object\"][0] + \"_distance_\" + data[d][\"gt_direction\"][0].lower()]\n",
    "\n",
    "    \n",
    "    elif data[d]['change_type'] == \"cartesian\":\n",
    "        cart_axes, direction = check_cartesian_direction(data[d]['text'])\n",
    "        data[d]['gt_cart_axes'] = [cart_axes]\n",
    "        data[d]['gt_direction'] = [direction]\n",
    "        data[d]['gt_intensity'] = [\"-\" ]\n",
    "        data[d]['gt_change_type'] = [\"cartesian\"]\n",
    "        data[d]['gt_feature'] = [data[d][\"gt_cart_axes\"][0] + \"_cartesian_\" + data[d][\"gt_direction\"][0].lower()]\n",
    "\n",
    "\n",
    "    elif data[d]['change_type'] == \"speed\":\n",
    "        data[d]['gt_direction'] = [check_speed_direction(data[d]['text'])]\n",
    "        data[d]['gt_intensity'] = [check_intensity(data[d]['text'])]\n",
    "        data[d]['gt_cart_axes'] = [\"-\"]\n",
    "        data[d]['gt_change_type'] = [\"speed\"]\n",
    "        data[d]['gt_feature'] = [data[d][\"gt_target_object\"][0] + \"_speed_\" + data[d][\"gt_direction\"][0].lower()]\n",
    "\n",
    "    # Add keys relating to features\n",
    "    data[d]['gt_dynamic_features'] = get_dynamic_features(data[d]['gt_feature'][0])\n",
    "    \n",
    "    # Create keys for prompt evaluations\n",
    "    data[d]['gt_split'] = [data[d]['text']]\n",
    "\n",
    "    # TODO: update image paths\n",
    "\n",
    "    # print(f\"{data[d]['text']:<60} | {data[d]['gt_feature'][0]:^40} | {data[d]['gt_change_type'][0]:^10} | {data[d]['gt_cart_axes'][0]:^3} | {data[d]['gt_direction'][0]:^8} | {data[d]['gt_intensity'][0]:^8}\")\n"
   ]
  },
  {
   "cell_type": "code",
   "execution_count": 26,
   "metadata": {},
   "outputs": [
    {
     "name": "stdout",
     "output_type": "stream",
     "text": [
      "text : stay closer to the Egyptian cat\n",
      "obj_names : ['acoustic guitar', 'RV', 'trolley', 'minibus', 'Egyptian cat', 'European fire salamander']\n",
      "obj_poses : [[-0.16723265307625768, 0.06511611437603326, -0.2140565027826487], [0.26284862657619623, 0.15670515978207278, -0.23528697921312614], [-0.09024289540346142, -0.060834785513723455, -0.2935970481219493], [0.025734782714433413, -0.2316987307641093, 0.16114266945706612], [0.07547948374778946, 0.02328983279775909, 0.0005649966608154422], [0.22303722987414787, -0.07094117787220988, 0.10933703314772436]]\n",
      "obj_classes : ['402', '757', '829', '654', '285', '25']\n",
      "change_type : dist\n",
      "map_id : 0\n",
      "image_paths : ['/home/arthur/data/image_dataset//402/acoustic guitar/Image_3.jpg', '/home/arthur/data/image_dataset//757/RV/Image_1.jpg', '/home/arthur/data/image_dataset//829/trolley/Image_1.jpg', '/home/arthur/data/image_dataset//654/minibus/Image_5.jpg', '/home/arthur/data/image_dataset//285/Egyptian cat/Image_1.jpg', '/home/arthur/data/image_dataset//25/European fire salamander/Image_3.jpg']\n",
      "locality_factor : 0.6624113313262489\n",
      "token_text : [101, 2994, 3553, 2000, 1996, 6811, 4937, 102]\n",
      "similarity : [[0.17227767407894135, 0.17446866631507874, 0.1748104691505432, 0.1452394276857376, 0.26796862483024597, 0.18175172805786133]]\n",
      "initial_traj : [[0.29524648098151074, -0.005368213565017599, -0.10639531430622262, 0.30000000000000004], [0.27381279643114875, 0.08191928084317257, -0.04638646207348601, 0.19934730526173594], [0.24611539136683902, 0.15281377277132036, 0.00314310608170576, 0.11027115407076604], [0.2130720465233349, 0.20841837092767102, 0.042970152019565, 0.032196782921920075], [0.17560054263539038, 0.24983618402046925, 0.07387143760030368, -0.035450571689972565], [0.13461866043775916, 0.27817032075796, 0.09662372468413394, -0.09324567327008226], [0.09104418066519482, 0.2945238898483884, 0.11200377513126847, -0.1417632853235794], [0.045794884052451135, 0.30000000000000004, 0.12078835080191896, -0.18157817135563453], [-0.00021144866571820575, 0.2957017599210392, 0.1237542135562979, -0.21326509487141826], [-0.046057036754559355, 0.28273227831975145, 0.1216781252546173, -0.23739881937610063], [-0.09082409947931858, 0.2621946639043815, 0.11533684775708952, -0.2545541083748525], [-0.13359485610524235, 0.2351920253831743, 0.10550714292392649, -0.26530572537284414], [-0.17345152589757684, 0.2028274714643754, 0.09296577261534078, -0.27022843387524587], [-0.20947632812156824, 0.16620411085622933, 0.0784894986915442, -0.2698969973872285], [-0.24075148204246294, 0.12642505226698142, 0.06285508301274922, -0.2648861794139621], [-0.26635920692550713, 0.08459340440487662, 0.0468392874391681, -0.2557707434606174], [-0.28538172203594725, 0.04181227597815995, 0.03121887383101274, -0.24312545303236466], [-0.2969012466390295, -0.0008152243049237007, 0.01677060404849562, -0.2275250716343744], [-0.3, -0.042185987736128916, 0.004271239951828765, -0.20954436277181737], [-0.29376020138410497, -0.0811969056072111, -0.005502456598775685, -0.18975808994986337], [-0.2772973321000549, -0.11676179513806917, -0.011793132493116809, -0.16874101667368346], [-0.25085463616145126, -0.1483683538192967, -0.014501495946522835, -0.1470679064484478], [-0.21605132001410016, -0.17620445985293748, -0.014331143634887633, -0.1253135227793269], [-0.17459010862599778, -0.20050049119024183, -0.01203440616472734, -0.10405262917149122], [-0.12817372696514062, -0.2214868257824601, -0.008363614142558262, -0.08385998913011117], [-0.07850489999952504, -0.23939384158084276, -0.004071098174896592, -0.06531036616035735], [-0.027286352697146854, -0.25445191653664023, 9.081113174136402e-05, -0.04897852376740014], [0.023779189973997528, -0.26689142860110293, 0.0033697831708394688, -0.03543922545640982], [0.0729890030459116, -0.2769427557254812, 0.0050134873358815835, -0.025267234732557042], [0.11864036155059932, -0.28483627586102533, 0.004269593020351237, -0.019037315101012253], [0.15903054052006427, -0.290802366958986, 0.00038576961773229, -0.017324230066945723], [0.1924568149863104, -0.2950714069706133, -0.007390313478491228, -0.020702743135528168], [0.2172164599813411, -0.29787377384715785, -0.019810986874835956, -0.029747617811929805], [0.23160675053716062, -0.29943984553986996, -0.037628581177817866, -0.045033617601321296], [0.23392496168577215, -0.3, -0.061595426993953206, -0.06713550600887297], [0.22246836845917972, -0.2997846151787984, -0.09246385492975817, -0.0966280465397551], [0.19553424588938717, -0.2990240690275156, -0.13098619559174918, -0.1340860026991385], [0.15141986900839788, -0.29794873949740197, -0.1779147795864423, -0.18008413799219353], [0.0884225128482159, -0.2967890045397078, -0.2340019375203538, -0.2351972159240906], [0.004839452440844716, -0.2957752421056836, -0.3, -0.3]]\n",
      "gt_output_traj : [[0.29524648098151074, -0.005368213565017599, -0.10639531430622262, 0.30000000000000004], [0.22725513849380435, 0.04739559746162486, -0.048035975128614794, 0.19934730526173594], [0.18362861441291545, 0.09369621217552854, -0.004123736360946545, 0.11027115407076604], [0.16138961398118565, 0.13686543232461298, 0.03091680520343475, 0.032196782921920075], [0.14367173519174867, 0.17717188887692328, 0.0495235046284083, -0.035450571689972565], [0.11888977831455529, 0.2022881445842767, 0.07074611333642253, -0.09324567327008226], [0.08842598767465448, 0.21990493837935954, 0.08100927422713936, -0.1417632853235794], [0.05574981115552495, 0.22502498255515727, 0.09047944403633293, -0.18157817135563453], [0.02164791803783058, 0.2239564216875488, 0.09064382507253897, -0.21326509487141826], [-0.011583086074591076, 0.21285765463326006, 0.09168656416486815, -0.23739881937610063], [-0.04483144398612116, 0.19982265916500083, 0.08408514596867697, -0.2545541083748525], [-0.07653680458767266, 0.17965797317347237, 0.0774045998442806, -0.26530572537284414], [-0.10535161892592934, 0.15389166182618255, 0.06971515857162011, -0.27022843387524587], [-0.13298197510474558, 0.12836796258442387, 0.056005057437677995, -0.2698969973872285], [-0.15938029946111318, 0.0992826709170985, 0.04731630930111825, -0.2648861794139621], [-0.1821535091117292, 0.0697069497075744, 0.03340860629952387, -0.2557707434606174], [-0.2005799060864236, 0.037150118244354303, 0.023629462628508513, -0.24312545303236466], [-0.2122480012897527, 0.004759516064266099, 0.011135710042287137, -0.2275250716343744], [-0.21662994303976185, -0.02786583521028528, 0.002138522688183795, -0.20954436277181737], [-0.21199989567272517, -0.058438546883481365, -0.0061146294278575965, -0.18975808994986337], [-0.1978594436817905, -0.08599812809013133, -0.010472062699193735, -0.16874101667368346], [-0.17427938149336886, -0.10857685241274197, -0.012995185099045107, -0.1470679064484478], [-0.14424298908962677, -0.12707630174708695, -0.010264055106433025, -0.1253135227793269], [-0.10898155661146422, -0.140520211492368, -0.010466482250943814, -0.10405262917149122], [-0.07187631284795187, -0.15154864736839976, -0.005105665590416839, -0.08385998913011117], [-0.03347682770263339, -0.16016179233271413, -0.0037197765247795928, -0.06531036616035735], [0.00429158093337043, -0.16768213249285005, 0.0008826469247905094, -0.04897852376740014], [0.041097660894674135, -0.1754930342413428, 0.002623846239673655, -0.03543922545640982], [0.07564051923966009, -0.18652102652132183, 0.004489876599570722, -0.025267234732557042], [0.10923321030781558, -0.19306026326889383, 0.003946763706304072, -0.019037315101012253], [0.1384036467683782, -0.2045137393558492, 0.001267994557025831, -0.017324230066945723], [0.16510009655043675, -0.20792575826508564, -0.003625380989666415, -0.020702743135528168], [0.18407225111116587, -0.21742564492447247, -0.011686376508102095, -0.029747617811929805], [0.19856092428406288, -0.21632932470418334, -0.02331630880476826, -0.045033617601321296], [0.20299011676484843, -0.22112656262836042, -0.041410099336906904, -0.06713550600887297], [0.19520163171952395, -0.22098617373795607, -0.06627856761860176, -0.0966280465397551], [0.17203732442764716, -0.21548588423443668, -0.09492053136315731, -0.1340860026991385], [0.1349913030687402, -0.2173371302844165, -0.13290365671442772, -0.18008413799219353], [0.08171190127872398, -0.2227174431932273, -0.18294386407852598, -0.2351972159240906], [0.00936783981031217, -0.23132081371387744, -0.2470236348366938, -0.3]]\n",
      "gt_target_object : ['Egyptian cat']\n",
      "gt_direction : ['DECREASE']\n",
      "gt_intensity : ['NEUTRAL']\n",
      "gt_cart_axes : ['-']\n",
      "gt_change_type : ['distance']\n",
      "gt_feature : ['Egyptian cat_distance_decrease']\n",
      "gt_dynamic_features : ['Egyptian cat_distance_decrease', 'Egyptian cat_distance_increase']\n",
      "gt_split : ['stay closer to the Egyptian cat']\n"
     ]
    }
   ],
   "source": [
    "# Print out data to check\n",
    "\n",
    "for d in data[\"0\"]:\n",
    "    print (d, \":\", data[\"0\"][d])\n",
    "\n"
   ]
  },
  {
   "cell_type": "code",
   "execution_count": 29,
   "metadata": {},
   "outputs": [],
   "source": [
    "# Store new json file\n",
    "with open(base_path + \"/our_labels_\" + data_set_name, \"w\") as f:\n",
    "    json.dump(data, f, indent=2)"
   ]
  },
  {
   "attachments": {},
   "cell_type": "markdown",
   "metadata": {},
   "source": [
    "## Split dataset into smaller files"
   ]
  },
  {
   "cell_type": "code",
   "execution_count": 33,
   "metadata": {},
   "outputs": [
    {
     "data": {
      "text/plain": [
       "['text',\n",
       " 'obj_names',\n",
       " 'obj_poses',\n",
       " 'obj_classes',\n",
       " 'change_type',\n",
       " 'map_id',\n",
       " 'image_paths',\n",
       " 'locality_factor',\n",
       " 'token_text',\n",
       " 'similarity',\n",
       " 'initial_traj',\n",
       " 'gt_output_traj',\n",
       " 'gt_target_object',\n",
       " 'gt_direction',\n",
       " 'gt_intensity',\n",
       " 'gt_cart_axes',\n",
       " 'gt_change_type',\n",
       " 'gt_feature',\n",
       " 'gt_dynamic_features',\n",
       " 'gt_split']"
      ]
     },
     "execution_count": 33,
     "metadata": {},
     "output_type": "execute_result"
    }
   ],
   "source": [
    "import json\n",
    "\n",
    "with open(base_path + \"/our_labels_datalatte_100k_lf.json\", \"r\") as f:\n",
    "    data = json.load(f)\n",
    "\n",
    "\n",
    "list(data[\"0\"].keys())"
   ]
  },
  {
   "cell_type": "code",
   "execution_count": 32,
   "metadata": {},
   "outputs": [
    {
     "name": "stdout",
     "output_type": "stream",
     "text": [
      "0 5000\n",
      "5000 10000\n",
      "10000 15000\n",
      "15000 20000\n",
      "20000 25000\n",
      "25000 30000\n",
      "30000 35000\n",
      "35000 40000\n",
      "40000 45000\n",
      "45000 50000\n",
      "50000 55000\n",
      "55000 60000\n",
      "60000 65000\n",
      "65000 70000\n",
      "70000 75000\n",
      "75000 80000\n",
      "80000 85000\n",
      "85000 90000\n",
      "90000 95000\n",
      "95000 100000\n"
     ]
    }
   ],
   "source": [
    "num_files = 20\n",
    "\n",
    "# Convert into a list\n",
    "items = list(data.items())\n",
    "chunk_size = len(data) // num_files\n",
    "\n",
    "for i in range(num_files):\n",
    "    start_index = i * chunk_size\n",
    "    end_index = (i + 1) * chunk_size if i != num_files - 1 else len(data)  # Ensure the last chunk gets any remaining item\n",
    "\n",
    "    print(start_index, end_index)\n",
    "\n",
    "    chunk_data = dict(items[start_index:end_index])\n",
    "\n",
    "    with open(f\"{base_path}/our_labels_datalatte_100k_lf_{i}.json\", \"w\") as f:\n",
    "        json.dump(chunk_data, f, indent=2)\n"
   ]
  },
  {
   "cell_type": "code",
   "execution_count": 47,
   "metadata": {},
   "outputs": [
    {
     "name": "stdout",
     "output_type": "stream",
     "text": [
      "57876\n"
     ]
    }
   ],
   "source": [
    "# check the data validity\n",
    "import numpy as np\n",
    "for idx in range(57876,100000):\n",
    "    np_traj = np.array(data[str(idx)][\"gt_output_traj\"])\n",
    "    is_nan = np.isnan(np_traj).any()\n",
    "    if is_nan:\n",
    "        print(idx)\n",
    "\n",
    "# Only data of idx 57876 has an invalid trajectory"
   ]
  },
  {
   "attachments": {},
   "cell_type": "markdown",
   "metadata": {},
   "source": [
    "# Generate LaTTe analysis \n",
    "Vary 1 component in the sample"
   ]
  },
  {
   "cell_type": "code",
   "execution_count": 36,
   "metadata": {},
   "outputs": [],
   "source": [
    "import json\n",
    "file_path = base_path + \"/our_labels_data_latte_20.json\"\n",
    "\n",
    "# Import data\n",
    "with open(file_path, \"r\") as f:\n",
    "    data = json.load(f)"
   ]
  },
  {
   "cell_type": "code",
   "execution_count": 37,
   "metadata": {},
   "outputs": [
    {
     "data": {
      "text/plain": [
       "dict_keys(['text', 'obj_names', 'obj_poses', 'obj_classes', 'change_type', 'map_id', 'image_paths', 'locality_factor', 'token_text', 'similarity', 'initial_traj', 'gt_output_traj', 'gt_target_object', 'gt_direction', 'gt_intensity', 'gt_cart_axes', 'gt_change_type', 'gt_feature', 'gt_dynamic_features', 'gt_split'])"
      ]
     },
     "execution_count": 37,
     "metadata": {},
     "output_type": "execute_result"
    }
   ],
   "source": [
    "# check data\n",
    "data[\"0\"].keys()"
   ]
  },
  {
   "cell_type": "code",
   "execution_count": 38,
   "metadata": {},
   "outputs": [],
   "source": [
    "import matplotlib.pyplot as plt\n",
    "import numpy as np\n",
    "\n",
    "def plot_sample(data):\n",
    "\n",
    "    fig = plt.figure()\n",
    "    fig.add_subplot(111, projection='3d')\n",
    "    ax = plt.gca(projection=\"3d\")\n",
    "\n",
    "    # Plot object poses\n",
    "    obj_poses = data[\"obj_poses\"]\n",
    "    for i in range(len(data[\"obj_names\"])):\n",
    "        x,y,z = obj_poses[i]\n",
    "        \n",
    "        # # To highlight a specific object\n",
    "        if data[\"obj_names\"][i] == \"Egyptian cat\":\n",
    "            sc = ax.scatter(x,y,z, color=\"red\", s=50)\n",
    "        \n",
    "            t = ax.text(x, y, z, data[\"obj_names\"][i], 'x', color=\"red\", ha='center')\n",
    "\n",
    "        # else:        \n",
    "        sc = ax.scatter(x,y,z, color=\"black\", s=50)\n",
    "        \n",
    "        t = ax.text(x, y, z, data[\"obj_names\"][i], 'x', color=\"black\", ha='center')\n",
    "\n",
    "\n",
    "    # Plot trajectory\n",
    "    input_traj = np.array(data[\"initial_traj\"])\n",
    "    x_0, y_0, z_0 = input_traj[:,0], input_traj[:,1], input_traj[:,2]\n",
    "    ax.plot(x_0, y_0, z_0, label=\"Input Trajectory\", color=\"red\")\n",
    "\n",
    "    output_traj = np.array(data[\"gt_output_traj\"])\n",
    "    x_1, y_1, z_1 = output_traj[:,0], output_traj[:,1], output_traj[:,2]\n",
    "    ax.plot(x_1, y_1, z_1, label=\"Output Trajectory\", color=\"green\")\n",
    "\n",
    "\n",
    "\n",
    "    # Set labels and title\n",
    "    ax.set_xlabel(\"X\")\n",
    "    ax.set_ylabel(\"Y\")\n",
    "    ax.set_zlabel(\"Z\")\n",
    "    plt.title(\"Trajectory and Object Poses\")\n",
    "\n",
    "    # Add legend\n",
    "    plt.legend()\n",
    "\n",
    "    # Show the plot\n",
    "    plt.show()"
   ]
  },
  {
   "cell_type": "code",
   "execution_count": 39,
   "metadata": {},
   "outputs": [],
   "source": [
    "data_original = data[\"0\"]\n",
    "\n",
    "# Dump data into json file\n",
    "with open(base_path + \"/single/0.json\", \"w\") as f:\n",
    "    json.dump(data_original, f, indent=4)\n",
    "\n"
   ]
  },
  {
   "cell_type": "code",
   "execution_count": 40,
   "metadata": {},
   "outputs": [],
   "source": [
    "import copy\n",
    "data_change_text = copy.deepcopy(data[\"0\"])\n",
    "data_change_text[\"text\"] = \"stay further away from the Egyptian cat\"\n",
    "\n",
    "with open(base_path + \"/single/0b.json\", \"w\") as f:\n",
    "    json.dump(data_change_text, f, indent=4)"
   ]
  },
  {
   "cell_type": "code",
   "execution_count": 41,
   "metadata": {},
   "outputs": [
    {
     "name": "stdout",
     "output_type": "stream",
     "text": [
      "Egyptian cat index:  4\n"
     ]
    },
    {
     "name": "stderr",
     "output_type": "stream",
     "text": [
      "/tmp/ipykernel_133281/3608574071.py:8: MatplotlibDeprecationWarning: Calling gca() with keyword arguments was deprecated in Matplotlib 3.4. Starting two minor releases later, gca() will take no keyword arguments. The gca() function should only be used to get the current axes, or if no axes exist, create new axes with default keyword arguments. To create a new axes with non-default arguments, use plt.axes() or plt.subplot().\n",
      "  ax = plt.gca(projection=\"3d\")\n"
     ]
    },
    {
     "data": {
      "image/png": "[encoded data removed]",
      "text/plain": [
       "<Figure size 432x288 with 1 Axes>"
      ]
     },
     "metadata": {
      "needs_background": "light"
     },
     "output_type": "display_data"
    }
   ],
   "source": [
    "data_change_target_obj_pose = copy.deepcopy(data[\"0\"])\n",
    "cat_idx = data_change_target_obj_pose[\"obj_names\"].index(\"Egyptian cat\")\n",
    "print(\"Egyptian cat index: \", cat_idx)\n",
    "data_change_target_obj_pose[\"obj_poses\"][4] = [-0.4, 0.3, 0.0]\n",
    "\n",
    "# plot\n",
    "plot_sample(data_change_target_obj_pose)\n",
    "\n",
    "with open(base_path + \"/single/0e.json\", \"w\") as f:\n",
    "    json.dump(data_change_target_obj_pose, f, indent=4)"
   ]
  },
  {
   "cell_type": "code",
   "execution_count": 42,
   "metadata": {},
   "outputs": [
    {
     "name": "stderr",
     "output_type": "stream",
     "text": [
      "/tmp/ipykernel_133281/3608574071.py:8: MatplotlibDeprecationWarning: Calling gca() with keyword arguments was deprecated in Matplotlib 3.4. Starting two minor releases later, gca() will take no keyword arguments. The gca() function should only be used to get the current axes, or if no axes exist, create new axes with default keyword arguments. To create a new axes with non-default arguments, use plt.axes() or plt.subplot().\n",
      "  ax = plt.gca(projection=\"3d\")\n"
     ]
    },
    {
     "data": {
      "image/png": "[encoded data removed]",
      "text/plain": [
       "<Figure size 432x288 with 1 Axes>"
      ]
     },
     "metadata": {
      "needs_background": "light"
     },
     "output_type": "display_data"
    }
   ],
   "source": [
    "\n",
    "data_change_traj = copy.deepcopy(data[\"0\"])\n",
    "\n",
    "data_change_traj[\"initial_traj\"] = [[\n",
    "                -0.13716693379581502,\n",
    "                0.09999999999999998,\n",
    "                0.30000000000000004,\n",
    "                0.05072855138717691\n",
    "            ],\n",
    "            [\n",
    "                -0.17149759918836216,\n",
    "                0.09971242801517977,\n",
    "                0.27697594412135684,\n",
    "                0.10017898218254051\n",
    "            ],\n",
    "            [\n",
    "                -0.19593641770419035,\n",
    "                0.09921577375727342,\n",
    "                0.25340656652495275,\n",
    "                0.14352499471979707\n",
    "            ],\n",
    "            [\n",
    "                -0.2114182890133935,\n",
    "                0.09848367967932825,\n",
    "                0.22942662998202978,\n",
    "                0.18101213868456323\n",
    "            ],\n",
    "            [\n",
    "                -0.21887811278606534,\n",
    "                0.09748978823439158,\n",
    "                0.2051708972638293,\n",
    "                0.21288596376245583\n",
    "            ],\n",
    "            [\n",
    "                -0.21925078869229975,\n",
    "                0.0962077418755114,\n",
    "                0.18077413114159357,\n",
    "                0.2393920196390915\n",
    "            ],\n",
    "            [\n",
    "                -0.21347121640219058,\n",
    "                0.09461118305573468,\n",
    "                0.15637109438656416,\n",
    "                0.2607758560000868\n",
    "            ],\n",
    "            [\n",
    "                -0.20247429558583152,\n",
    "                0.0926737542281093,\n",
    "                0.13209654976998308,\n",
    "                0.27728302253105874\n",
    "            ],\n",
    "            [\n",
    "                -0.18719492591331655,\n",
    "                0.09036909784568237,\n",
    "                0.10808526006309205,\n",
    "                0.2891590689176238\n",
    "            ],\n",
    "            [\n",
    "                -0.1685680070547394,\n",
    "                0.08767085636150174,\n",
    "                0.08447198803713296,\n",
    "                0.2966495448453985\n",
    "            ],\n",
    "            [\n",
    "                -0.14752843868019383,\n",
    "                0.08455267222861462,\n",
    "                0.06139149646334774,\n",
    "                0.30000000000000004\n",
    "            ],\n",
    "            [\n",
    "                -0.1250111204597738,\n",
    "                0.08098818790006868,\n",
    "                0.03897854811297774,\n",
    "                0.29945598406704454\n",
    "            ],\n",
    "            [\n",
    "                -0.10195095206357291,\n",
    "                0.07695104582891121,\n",
    "                0.017367905757265323,\n",
    "                0.2952630467321491\n",
    "            ],\n",
    "            [\n",
    "                -0.07928283316168516,\n",
    "                0.07241488846818978,\n",
    "                -0.0033056678325478206,\n",
    "                0.2876667376809301\n",
    "            ],\n",
    "            [\n",
    "                -0.05794166342420437,\n",
    "                0.06735335827095201,\n",
    "                -0.022907409885219943,\n",
    "                0.2769126065990044\n",
    "            ],\n",
    "            [\n",
    "                -0.038862342521224225,\n",
    "                0.061740097690245244,\n",
    "                -0.04130255762950924,\n",
    "                0.2632462031719889\n",
    "            ],\n",
    "            [\n",
    "                -0.02297977012283864,\n",
    "                0.055548749179116896,\n",
    "                -0.05835634829417374,\n",
    "                0.24691307708549992\n",
    "            ],\n",
    "            [\n",
    "                -0.01122884589914147,\n",
    "                0.04875295519061451,\n",
    "                -0.0739340191079717,\n",
    "                0.22815877802515416\n",
    "            ],\n",
    "            [\n",
    "                -0.004544469520226357,\n",
    "                0.04132635817778574,\n",
    "                -0.08790080729966132,\n",
    "                0.20722885567656868\n",
    "            ],\n",
    "            [\n",
    "                -0.0038615402675591937,\n",
    "                0.03324260059477613,\n",
    "                -0.10012195018077341,\n",
    "                0.18436885972535966\n",
    "            ],\n",
    "            [\n",
    "                -0.009794515748941857,\n",
    "                0.02447623049918035,\n",
    "                -0.11053093503883449,\n",
    "                0.15982433985714417\n",
    "            ],\n",
    "            [\n",
    "                -0.02171686725604588,\n",
    "                0.015005303112548551,\n",
    "                -0.11932556336656708,\n",
    "                0.13384084575753885\n",
    "            ],\n",
    "            [\n",
    "                -0.038701692249994146,\n",
    "                0.004808722545945665,\n",
    "                -0.1267676124389011,\n",
    "                0.10666392711216033\n",
    "            ],\n",
    "            [\n",
    "                -0.059822088191909595,\n",
    "                -0.006134607089563593,\n",
    "                -0.1331188595307673,\n",
    "                0.07853913360662534\n",
    "            ],\n",
    "            [\n",
    "                -0.08415115254291539,\n",
    "                -0.01784578168291412,\n",
    "                -0.13864108191709545,\n",
    "                0.04971201492655042\n",
    "            ],\n",
    "            [\n",
    "                -0.11076198276413429,\n",
    "                -0.030345897123041032,\n",
    "                -0.1435960568728158,\n",
    "                0.020428120757552626\n",
    "            ],\n",
    "            [\n",
    "                -0.13872767631668959,\n",
    "                -0.04365604929887956,\n",
    "                -0.14824556167285868,\n",
    "                -0.009066999214751792\n",
    "            ],\n",
    "            [\n",
    "                -0.1671213306617042,\n",
    "                -0.05779733409936472,\n",
    "                -0.15285137359215428,\n",
    "                -0.03852779530474598\n",
    "            ],\n",
    "            [\n",
    "                -0.19501604326030114,\n",
    "                -0.07279084741343156,\n",
    "                -0.15767526990563274,\n",
    "                -0.06770871782681309\n",
    "            ],\n",
    "            [\n",
    "                -0.2214849115736034,\n",
    "                -0.08865768513001532,\n",
    "                -0.16297902788822421,\n",
    "                -0.09636421709533671\n",
    "            ],\n",
    "            [\n",
    "                -0.2456010330627339,\n",
    "                -0.10541894313805089,\n",
    "                -0.1690244248148589,\n",
    "                -0.12424874342469983\n",
    "            ],\n",
    "            [\n",
    "                -0.26643750518881587,\n",
    "                -0.12309571732647351,\n",
    "                -0.1760732379604672,\n",
    "                -0.15111674712928608\n",
    "            ],\n",
    "            [\n",
    "                -0.28306742541297214,\n",
    "                -0.14170910358421834,\n",
    "                -0.1843872445999789,\n",
    "                -0.17672267852347856\n",
    "            ],\n",
    "            [\n",
    "                -0.29456389119632587,\n",
    "                -0.1612801978002204,\n",
    "                -0.19422822200832462,\n",
    "                -0.20082098792166064\n",
    "            ],\n",
    "            [\n",
    "                -0.3,\n",
    "                -0.1818300958634148,\n",
    "                -0.20585794746043445,\n",
    "                -0.2231661256382157\n",
    "            ],\n",
    "            [\n",
    "                -0.29844884928511745,\n",
    "                -0.2033798936627365,\n",
    "                -0.2195381982312382,\n",
    "                -0.24351254198752675\n",
    "            ],\n",
    "            [\n",
    "                -0.2889835365128014,\n",
    "                -0.22595068708712085,\n",
    "                -0.23553075159566655,\n",
    "                -0.2616146872839775\n",
    "            ],\n",
    "            [\n",
    "                -0.2706771591441747,\n",
    "                -0.24956357202550278,\n",
    "                -0.2540973848286494,\n",
    "                -0.2772270118419511\n",
    "            ],\n",
    "            [\n",
    "                -0.2426028146403605,\n",
    "                -0.2742396443668175,\n",
    "                -0.27549987520511726,\n",
    "                -0.2901039659758308\n",
    "            ],\n",
    "            [\n",
    "                -0.20383360046248167,\n",
    "                -0.3,\n",
    "                -0.3,\n",
    "                -0.3\n",
    "            ]]\n",
    "\n",
    "\n",
    "# plot\n",
    "plot_sample(data_change_traj)\n",
    "\n",
    "\n",
    "with open(base_path + \"/single/0f.json\", \"w\") as f:\n",
    "    json.dump(data_change_traj, f, indent=4)\n"
   ]
  },
  {
   "cell_type": "code",
   "execution_count": 43,
   "metadata": {},
   "outputs": [
    {
     "name": "stdout",
     "output_type": "stream",
     "text": [
      "[[-0.16723265307625768, 0.06511611437603326, -0.2140565027826487], [0.26284862657619623, 0.15670515978207278, -0.23528697921312614], [-0.09024289540346142, -0.060834785513723455, -0.2935970481219493], [0.025734782714433413, -0.2316987307641093, 0.16114266945706612], [0.07547948374778946, 0.02328983279775909, 0.0005649966608154422], [0.22303722987414787, -0.07094117787220988, 0.10933703314772436]]\n",
      "[[-0.16723265307625768, 0.06511611437603326, -0.2140565027826487], [0.26284862657619623, 0.15670515978207278, -0.23528697921312614], [-0.09024289540346142, -0.060834785513723455, -0.2935970481219493], [0.025734782714433413, -0.2316987307641093, 0.16114266945706612], [0.07547948374778946, 0.02328983279775909, 0.0005649966608154422], [0.22303722987414787, -0.07094117787220988, 0.10933703314772436]]\n",
      "[[-0.16723265307625768, 0.06511611437603326, -0.2140565027826487], [0.26284862657619623, 0.15670515978207278, -0.23528697921312614], [-0.09024289540346142, -0.060834785513723455, -0.2935970481219493], [0.025734782714433413, -0.2316987307641093, 0.16114266945706612], [-0.4, 0.3, 0.0], [0.22303722987414787, -0.07094117787220988, 0.10933703314772436]]\n"
     ]
    }
   ],
   "source": [
    "print(data_change_traj[\"obj_poses\"])\n",
    "print(data_change_text[\"obj_poses\"])\n",
    "print(data_change_target_obj_pose[\"obj_poses\"])\n"
   ]
  },
  {
   "cell_type": "code",
   "execution_count": 32,
   "metadata": {},
   "outputs": [],
   "source": [
    "# Store all into a json file for evaluation\n",
    "data_all = dict()\n",
    "\n",
    "data_all[\"0\"] = data_original\n",
    "data_all[\"1\"] = data_change_text\n",
    "data_all[\"2\"] = data_change_target_obj_pose\n",
    "data_all[\"3\"] = data_change_traj\n",
    "\n",
    "with open(base_path + \"/single/0_set.json\", \"w\") as f:\n",
    "    json.dump(data_all, f, indent=4)\n"
   ]
  },
  {
   "cell_type": "code",
   "execution_count": null,
   "metadata": {},
   "outputs": [],
   "source": []
  },
  {
   "cell_type": "code",
   "execution_count": null,
   "metadata": {},
   "outputs": [],
   "source": []
  }
 ],
 "metadata": {
  "kernelspec": {
   "display_name": "latte",
   "language": "python",
   "name": "python3"
  },
  "language_info": {
   "codemirror_mode": {
    "name": "ipython",
    "version": 3
   },
   "file_extension": ".py",
   "mimetype": "text/x-python",
   "name": "python",
   "nbconvert_exporter": "python",
   "pygments_lexer": "ipython3",
   "version": "3.8.2"
  },
  "orig_nbformat": 4
 },
 "nbformat": 4,
 "nbformat_minor": 2
}
